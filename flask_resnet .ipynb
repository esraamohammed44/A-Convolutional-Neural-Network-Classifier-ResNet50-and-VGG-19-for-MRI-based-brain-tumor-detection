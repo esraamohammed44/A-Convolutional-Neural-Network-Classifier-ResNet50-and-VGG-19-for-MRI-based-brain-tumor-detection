{
 "cells": [
  {
   "cell_type": "code",
   "execution_count": 1,
   "id": "b3f2e940",
   "metadata": {},
   "outputs": [],
   "source": [
    "import torch.nn as nn\n",
    "import torch.nn.functional as F\n",
    "import torch.utils.data\n",
    "\n",
    "#Resnet Architecture\n",
    "\n",
    "def conv3x3(in_planes,out_planes,stride=1):\n",
    "    return nn.Conv2d(in_planes,out_planes,kernel_size=3,stride=stride,padding=1,bias=False)\n",
    "\n",
    "def conv1x1(in_planes,out_planes,stride=1):\n",
    "    return nn.Conv2d(in_planes,out_planes,kernel_size=1,stride=stride,bias=False)\n",
    "###functions are helper functions that create 3x3 and 1x1 convolutional layers, respectively, using the nn.Conv2d class\n",
    "\n",
    "class BasicBlock(nn.Module): \n",
    "\n",
    "    expansion = 1\n",
    "\n",
    "    def __init__(self,inplanes,planes,stride=1,downsample=None): #planes for output\n",
    "        super(BasicBlock,self).__init__()\n",
    "        self.conv1 = conv3x3(inplanes,planes,stride) \n",
    "        self.bn1 = nn.BatchNorm2d(planes) #is used to apply batch normalization to the output of the convolutional layers\n",
    "        self.relu = nn.ReLU(inplace=True)\n",
    "        self.drop = nn.Dropout(0.5)\n",
    "        self.conv2 = conv3x3(planes,planes)\n",
    "        self.bn2 = nn.BatchNorm2d(planes)\n",
    "        self.downsample = downsample #is used to match the dimensions of the input tensor to the output tensor of a residual block.\n",
    "        self.stride = stride\n",
    "\n",
    "    def forward(self,x):\n",
    "        identity = x       #It first saves the input tensor x as the identity tensor\n",
    "        out = self.conv1(x) # then applies the convolutional layers\n",
    "        out = self.bn1(out) # then  batch normalization layers\n",
    "        out= self.relu(out) # then ReLU activation function,\n",
    "        out = self.drop(out) #and dropout layers to the input tensor x to obtain the output tensor out ###prevent overfitting.\n",
    "        out = self.conv2(out)\n",
    "        out = self.bn2(out)\n",
    "        out = self.drop(out)\n",
    "\n",
    "        if(self.downsample is not None):\n",
    "            identity = self.downsample(x)\n",
    "        out += identity \n",
    "        out = self.relu(out)\n",
    "\n",
    "        return out"
   ]
  },
  {
   "cell_type": "code",
   "execution_count": 2,
   "id": "3e59958a",
   "metadata": {},
   "outputs": [],
   "source": [
    "num_classes = 2\n",
    "class ResNet(nn.Module):\n",
    "\n",
    "    def __init__(self,block,layers,num_classes=num_classes):\n",
    "        super(ResNet,self).__init__()\n",
    "        self.inplanes = 64 # according to research paper\n",
    "        self.conv1 = nn.Conv2d(1,64,kernel_size=7,stride=2,padding=3,bias=False)\n",
    "        self.bn1 = nn.BatchNorm2d(64)\n",
    "        self.relu = nn.ReLU(inplace=True)\n",
    "        self.maxpool = nn.MaxPool2d(kernel_size = 3,stride=2,padding=1)\n",
    "        self.layer1 = self._make_layer(block,64,layers[0],stride=1)\n",
    "        self.layer2 = self._make_layer(block,128,layers[1],stride=2)\n",
    "        self.layer3 = self._make_layer(block,256,layers[2],stride=2)\n",
    "        self.layer4 = self._make_layer(block,512,layers[3],stride=2)\n",
    "        \n",
    "        self.avgpooling = nn.AdaptiveAvgPool2d((1,1))\n",
    "        self.fc = nn.Linear(512*block.expansion,num_classes)\n",
    "\n",
    "        for m in self.modules(): \n",
    "            if isinstance(m,nn.Conv2d):\n",
    "                nn.init.kaiming_normal_(m.weight,mode=\"fan_out\",nonlinearity=\"relu\") \n",
    "            elif isinstance(m,nn.BatchNorm2d):\n",
    "                nn.init.constant_(m.weight,1)\n",
    "                nn.init.constant_(m.bias, 0)\n",
    "\n",
    "\n",
    "    def _make_layer(self,block,planes,num_layers,stride = 1):\n",
    "        downsample = None\n",
    "        if stride!=1 or self.inplanes != planes*block.expansion:\n",
    "            downsample = nn.Sequential(\n",
    "                conv1x1(self.inplanes,planes*block.expansion,stride),\n",
    "                nn.BatchNorm2d(planes*block.expansion)\n",
    "            )\n",
    "        layers = []\n",
    "        layers.append(block(self.inplanes,planes,stride,downsample))\n",
    "        self.inplanes = planes*block.expansion\n",
    "        for _ in range(1,len(layers)):\n",
    "            layers.append(block(self.inplanes,planes))\n",
    "\n",
    "        return nn.Sequential(*layers)\n",
    "\n",
    "    def forward(self,x):\n",
    "        x= self.conv1(x)\n",
    "        x = self.bn1(x)\n",
    "        x = self.relu(x)\n",
    "        x=self.maxpool(x)\n",
    "\n",
    "        x = self.layer1(x)\n",
    "        x = self.layer2(x)\n",
    "        x = self.layer3(x)\n",
    "        x = self.layer4(x)\n",
    "\n",
    "        x = self.avgpooling(x)\n",
    "\n",
    "        x = x.view(x.size(0),-1) #flatten\n",
    "        x = self.fc(x)\n",
    "\n",
    "        return x"
   ]
  },
  {
   "cell_type": "code",
   "execution_count": 3,
   "id": "de01be5a",
   "metadata": {},
   "outputs": [
    {
     "data": {
      "text/plain": [
       "<All keys matched successfully>"
      ]
     },
     "execution_count": 3,
     "metadata": {},
     "output_type": "execute_result"
    }
   ],
   "source": [
    "model = ResNet(BasicBlock,[2,2,2,2],num_classes=2)\n",
    "\n",
    "model.load_state_dict(torch.load(\"300epoch.pth\",map_location=torch.device('cpu')))"
   ]
  },
  {
   "cell_type": "code",
   "execution_count": null,
   "id": "a806a33c",
   "metadata": {},
   "outputs": [],
   "source": []
  }
 ],
 "metadata": {
  "kernelspec": {
   "display_name": "Python 3 (ipykernel)",
   "language": "python",
   "name": "python3"
  },
  "language_info": {
   "codemirror_mode": {
    "name": "ipython",
    "version": 3
   },
   "file_extension": ".py",
   "mimetype": "text/x-python",
   "name": "python",
   "nbconvert_exporter": "python",
   "pygments_lexer": "ipython3",
   "version": "3.9.12"
  }
 },
 "nbformat": 4,
 "nbformat_minor": 5
}
